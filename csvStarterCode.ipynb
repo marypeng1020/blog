{
  "nbformat": 4,
  "nbformat_minor": 0,
  "metadata": {
    "colab": {
      "name": "csvStarterCode.ipynb",
      "provenance": [],
      "toc_visible": true,
      "include_colab_link": true
    },
    "kernelspec": {
      "name": "python3",
      "display_name": "Python 3"
    },
    "language_info": {
      "name": "python"
    }
  },
  "cells": [
    {
      "cell_type": "markdown",
      "metadata": {
        "id": "view-in-github",
        "colab_type": "text"
      },
      "source": [
        "<a href=\"https://colab.research.google.com/github/marypeng1020/blogInGithub/blob/main/csvStarterCode.ipynb\" target=\"_parent\"><img src=\"https://colab.research.google.com/assets/colab-badge.svg\" alt=\"Open In Colab\"/></a>"
      ]
    },
    {
      "cell_type": "markdown",
      "source": [
        "## Prep Code"
      ],
      "metadata": {
        "id": "aENLF00gr2up"
      }
    },
    {
      "cell_type": "code",
      "execution_count": null,
      "metadata": {
        "id": "8NTGJ_NTrqSR"
      },
      "outputs": [],
      "source": [
        "import csv\n",
        "from google_drive_downloader import GoogleDriveDownloader\n",
        "\n",
        "GoogleDriveDownloader.download_file_from_google_drive(file_id=\"1Fj5VLtfC0PKK7ffhgxy9v68DqU3gLSIp\", dest_path=\"./BPL_wifi_data.csv\")\n",
        "GoogleDriveDownloader.download_file_from_google_drive(file_id=\"1e3qlO5R34QVsJ78F6utG0PWB3B0CHyXp\", dest_path=\"./bpl_branches.txt\")\n",
        "GoogleDriveDownloader.download_file_from_google_drive(file_id=\"19nar_5jz9vi7t5OySX5uXFnUzKePSP1a\", dest_path=\"./nypl_branches.txt\")\n",
        "GoogleDriveDownloader.download_file_from_google_drive(file_id=\"1mVJ0VtgAEiN_61gteYM62lfLIwvp3zQH\", dest_path=\"./qpl_branches.txt\")"
      ]
    }
  ]
}